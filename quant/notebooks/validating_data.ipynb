{
 "cells": [
  {
   "cell_type": "code",
   "execution_count": 2,
   "metadata": {},
   "outputs": [
    {
     "ename": "ImportError",
     "evalue": "attempted relative import with no known parent package",
     "output_type": "error",
     "traceback": [
      "\u001b[1;31m---------------------------------------------------------------------------\u001b[0m",
      "\u001b[1;31mImportError\u001b[0m                               Traceback (most recent call last)",
      "\u001b[1;32md:\\Projects\\Quant\\quant\\notebooks\\validating_data.ipynb Cell 1\u001b[0m in \u001b[0;36m<cell line: 1>\u001b[1;34m()\u001b[0m\n\u001b[1;32m----> <a href='vscode-notebook-cell:/d%3A/Projects/Quant/quant/notebooks/validating_data.ipynb#ch0000000?line=0'>1</a>\u001b[0m \u001b[39mfrom\u001b[39;00m \u001b[39m.\u001b[39;00m\u001b[39m.\u001b[39;00m\u001b[39mdata\u001b[39;00m\u001b[39m.\u001b[39;00m\u001b[39mconfig\u001b[39;00m \u001b[39mimport\u001b[39;00m BinanceTicker, DataConfig, Interval\n\u001b[0;32m      <a href='vscode-notebook-cell:/d%3A/Projects/Quant/quant/notebooks/validating_data.ipynb#ch0000000?line=1'>2</a>\u001b[0m \u001b[39mfrom\u001b[39;00m \u001b[39m.\u001b[39;00m\u001b[39m.\u001b[39;00m\u001b[39mutils\u001b[39;00m\u001b[39m.\u001b[39;00m\u001b[39mio\u001b[39;00m \u001b[39mimport\u001b[39;00m IO\n\u001b[0;32m      <a href='vscode-notebook-cell:/d%3A/Projects/Quant/quant/notebooks/validating_data.ipynb#ch0000000?line=2'>3</a>\u001b[0m \u001b[39mfrom\u001b[39;00m \u001b[39m.\u001b[39;00m\u001b[39m.\u001b[39;00m\u001b[39mutils\u001b[39;00m\u001b[39m.\u001b[39;00m\u001b[39mtime_converter\u001b[39;00m \u001b[39mimport\u001b[39;00m TimeConverter\n",
      "\u001b[1;31mImportError\u001b[0m: attempted relative import with no known parent package"
     ]
    }
   ],
   "source": [
    "from ..data.config import BinanceTicker, DataConfig, Interval\n",
    "from ..utils.io import IO\n",
    "from ..utils.time_converter import TimeConverter\n",
    "from ..data.data_source import BinanceSource\n",
    "\n",
    "from datetime import datetime\n",
    "\n",
    "data_config = DataConfig(\n",
    "        Interval.D1,\n",
    "        BinanceTicker.BTCUSDT,\n",
    "        TimeConverter.datetime_to_ms(datetime.strptime(\"Jun 1 2018\", \"%b %d %Y\")),\n",
    "        TimeConverter.datetime_to_ms(datetime.strptime(\"Jun 1 2019\", \"%b %d %Y\")),\n",
    "    )\n",
    "result = BinanceSource.fetch_server(data_config)"
   ]
  },
  {
   "cell_type": "code",
   "execution_count": null,
   "metadata": {},
   "outputs": [],
   "source": []
  }
 ],
 "metadata": {
  "kernelspec": {
   "display_name": "Python 3.10.4 ('Quant')",
   "language": "python",
   "name": "python3"
  },
  "language_info": {
   "codemirror_mode": {
    "name": "ipython",
    "version": 3
   },
   "file_extension": ".py",
   "mimetype": "text/x-python",
   "name": "python",
   "nbconvert_exporter": "python",
   "pygments_lexer": "ipython3",
   "version": "3.10.4"
  },
  "orig_nbformat": 4,
  "vscode": {
   "interpreter": {
    "hash": "834fe000af14af4a3778b16479ce61ff8b5a556be408e7f3ebf7638420e0b8ef"
   }
  }
 },
 "nbformat": 4,
 "nbformat_minor": 2
}
