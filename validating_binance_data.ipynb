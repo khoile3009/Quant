{
 "cells": [
  {
   "cell_type": "code",
   "execution_count": 45,
   "metadata": {},
   "outputs": [],
   "source": [
    "from quant.data.data_source import get_binance_client, BinanceSource\n",
    "from quant.data.config import BinanceTicker, DataConfig, Interval\n",
    "from quant.utils.io import IO\n",
    "from quant.utils.time_converter import TimeConverter\n",
    "\n",
    "from datetime import datetime\n",
    "\n",
    "client = get_binance_client()\n",
    "data_config = DataConfig(\n",
    "        Interval.D1,\n",
    "        BinanceTicker.BTCUSDT,\n",
    "        TimeConverter.datetime_to_ms(datetime.strptime(\"Jun 1 2018\", \"%b %d %Y\")),\n",
    "        TimeConverter.datetime_to_ms(datetime.strptime(\"Jun 1 2019\", \"%b %d %Y\")),\n",
    "    )\n",
    "\n",
    "normal_result = client.get_klines(symbol=data_config.ticker.value, interval=data_config.interval.value, startTime=data_config.start_time, endTime=data_config.end_time)"
   ]
  },
  {
   "cell_type": "code",
   "execution_count": 46,
   "metadata": {},
   "outputs": [
    {
     "name": "stdout",
     "output_type": "stream",
     "text": [
      "max: 86400000, min: 86400000, mean: 86400000.0, std: 0.0\n"
     ]
    }
   ],
   "source": [
    "import statistics\n",
    "\n",
    "def get_time_difference(result):\n",
    "    return [result[i + 1][0] - result[i][0] for i in range(len(result) - 1)]\n",
    "\n",
    "def get_open_close_difference(result):\n",
    "    resut\n",
    "\n",
    "def describe_array(a):\n",
    "    print(f'max: {max(a)}, min: {min(a)}, mean: {sum(a)/len(a)}, std: {statistics.pstdev(a)}')\n",
    "\n",
    "diff_historical = get_time_difference(historical_result)\n",
    "describe_array(diff_historical)\n",
    "diff_normal = get_time_difference(normal_result)\n",
    "describe_array(diff_normal)\n"
   ]
  },
  {
   "cell_type": "code",
   "execution_count": 38,
   "metadata": {},
   "outputs": [
    {
     "data": {
      "image/png": "[encoded data removed]",
      "text/plain": [
       "<Figure size 432x288 with 1 Axes>"
      ]
     },
     "metadata": {
      "needs_background": "light"
     },
     "output_type": "display_data"
    }
   ],
   "source": [
    "import matplotlib.pyplot as plt\n",
    "\n",
    "plt.plot(diff_normal)\n",
    "plt.show()"
   ]
  },
  {
   "cell_type": "code",
   "execution_count": 53,
   "metadata": {},
   "outputs": [],
   "source": [
    "fetch_result = BinanceSource.fetch(data_config)"
   ]
  },
  {
   "cell_type": "code",
   "execution_count": 54,
   "metadata": {},
   "outputs": [
    {
     "name": "stdout",
     "output_type": "stream",
     "text": [
      "max: 86400000, min: 86400000, mean: 86400000.0, std: 0.0\n",
      "1527811200000 1527811200000\n",
      "1527897600000 1527897600000\n",
      "1527984000000 1527984000000\n",
      "1528070400000 1528070400000\n",
      "1528156800000 1528156800000\n",
      "1528243200000 1528243200000\n",
      "1528329600000 1528329600000\n",
      "1528416000000 1528416000000\n",
      "1528502400000 1528502400000\n",
      "1528588800000 1528588800000\n"
     ]
    }
   ],
   "source": [
    "fr = fetch_result['Open time'].to_list()\n",
    "def get_difference(result):\n",
    "    return [result[i + 1] - result[i] for i in range(len(result) - 1)]\n",
    "describe_array(get_difference(fr))\n",
    "for i in range(10):\n",
    "    print(normal_result[i][0], fr[i])"
   ]
  }
 ],
 "metadata": {
  "kernelspec": {
   "display_name": "Python 3.10.4 ('Quant')",
   "language": "python",
   "name": "python3"
  },
  "language_info": {
   "codemirror_mode": {
    "name": "ipython",
    "version": 3
   },
   "file_extension": ".py",
   "mimetype": "text/x-python",
   "name": "python",
   "nbconvert_exporter": "python",
   "pygments_lexer": "ipython3",
   "version": "3.10.4"
  },
  "orig_nbformat": 4,
  "vscode": {
   "interpreter": {
    "hash": "834fe000af14af4a3778b16479ce61ff8b5a556be408e7f3ebf7638420e0b8ef"
   }
  }
 },
 "nbformat": 4,
 "nbformat_minor": 2
}
